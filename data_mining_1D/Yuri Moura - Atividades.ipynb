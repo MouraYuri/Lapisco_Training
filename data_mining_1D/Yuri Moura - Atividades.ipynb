{
 "cells": [
  {
   "cell_type": "markdown",
   "metadata": {},
   "source": [
    "Atividades\n",
    "===\n",
    "\n",
    "Essas atividade são relativas a aulas de extração de atributos e selecão de atributos. \n",
    "- Link para video: https://drive.google.com/file/d/13LLQGLt7QsjKshBXgUdJ4RVOT8N252cU/view\n",
    "- Link para apresentação: https://docs.google.com/presentation/d/1wctFgQe7TSlBEypZbVQqqsfrnpSgOeXPSO-mCJ6jIz4\n",
    "\n",
    "\n",
    "> Lembre de criar uma `virtualenv` com os `requirements.txt` do repositório.\n",
    "\n",
    "> Lembre de criar uma `kernel` do jupyter para seus desenvolvimentos\n",
    "\n",
    "> **MANTENHA** essa arquivo no local padrão do repositório. Detro da pasta **feature_extraction_and_feature_selection**.\n",
    "\n",
    "> Enviei apenas o seu notebook para correção. Não é necessário enviar nenhum outro arquivo. Siga o padrão `Atividades-<NOME-DO-ALUNO>.ipynb`"
   ]
  },
  {
   "cell_type": "markdown",
   "metadata": {},
   "source": [
    "# Feature Extraction"
   ]
  },
  {
   "cell_type": "markdown",
   "metadata": {},
   "source": [
    "## 1. Realizar a extração de atributos utilzando as técnicas Fourier e HOS nas bases de dados"
   ]
  },
  {
   "cell_type": "markdown",
   "metadata": {},
   "source": [
    "- Dados de falhas em aerogeradores\n",
    "\n",
    "As orientações abaixo devem ser seguidas antes de iniciar os trabalhos\n",
    "\n",
    "> Todo os arquivos nomeados com `v000_ ... .csv` são referentes a essa base.\n",
    "\n",
    "> A classe referente ao dado está representada por uma TAG no nome do arquivo da seguinte forma: `v000_NORMAL_ ... .csv` é o dado referente a classe de funcionamento normal do gerador. A TAG `v000_SC_LI_LVL3_ ... .csv` é a classe referente a falha tipo 1 e continua. Não se preocupem com a ordem de enumeração das classes nesse momento.\n",
    "\n",
    "> Há 5 arquivos na pasta.\n",
    "\n",
    "> Utilizar as colunas a `Current_R`, `Current_S`, `Current_T` para realizar extração de atributos. Perceba que cada coluna é referente a uma sinal de corrente elétrica, portanto cada um são representados vetores de dimensões $1x50000$.\n",
    "\n",
    "> Antes de realizar a extração de atributos deve-se dividir cada sinal em 10 partes de tamanho $1x5000$. A ideia aqui é aumentar o número de amostra da base de dados por 10. Pense que cada parte é um recorte do sinal, e ao serem concatenadas retornarão o sinal original."
   ]
  },
  {
   "cell_type": "markdown",
   "metadata": {},
   "source": [
    "# Imports  "
   ]
  },
  {
   "cell_type": "markdown",
   "metadata": {},
   "source": [
    "### Importing feature extraction module  "
   ]
  },
  {
   "cell_type": "code",
   "execution_count": 8,
   "metadata": {},
   "outputs": [
    {
     "name": "stdout",
     "output_type": "stream",
     "text": [
      "Cloning into 'feature_extraction_signal'...\n",
      "remote: Enumerating objects: 3, done.\u001b[K\n",
      "remote: Counting objects: 100% (3/3), done.\u001b[K\n",
      "remote: Compressing objects: 100% (3/3), done.\u001b[K\n",
      "remote: Total 18 (delta 0), reused 3 (delta 0), pack-reused 15\u001b[K\n",
      "Unpacking objects: 100% (18/18), done.\n",
      "Checking connectivity... done.\n"
     ]
    }
   ],
   "source": [
    "!git clone https://github.com/navarmn/feature_extraction_signal.git"
   ]
  },
  {
   "cell_type": "code",
   "execution_count": 15,
   "metadata": {},
   "outputs": [],
   "source": [
    "from feature_extraction_signal.src import feature_extraction"
   ]
  },
  {
   "cell_type": "markdown",
   "metadata": {},
   "source": [
    "### importing pandas and others tools"
   ]
  },
  {
   "cell_type": "code",
   "execution_count": 20,
   "metadata": {},
   "outputs": [],
   "source": [
    "import pandas as pd\n",
    "import numpy as np\n",
    "import os.path"
   ]
  },
  {
   "cell_type": "markdown",
   "metadata": {},
   "source": [
    "### Carregue a base"
   ]
  },
  {
   "cell_type": "code",
   "execution_count": 24,
   "metadata": {},
   "outputs": [],
   "source": [
    "dataset_folder = os.path.join('.', 'datasets')\n",
    "DATAFILES = [\n",
    "    'Clinical_data_09-09-19-processed.xlsx',\n",
    "    'user-status-after-shrink.csv',\n",
    "    'v000_FAULT_SC_HI_LVL2_FR6000_FG5942_L000_0,6IN_SENSORC.csv',\n",
    "    'v000_FAULT_SC_LI_LVL3_FR4500_FG4365_L000_0,8IN_SENSORC.csv',\n",
    "    'v000_FAULT_SC_LI_LVL3_FR6000_FG5927_L000_0,4IN_SENSORC.csv',\n",
    "    'v000_NORMAL_FR4500_FG4385_L000_1,0IN_SENSORC.csv',\n",
    "    'v000_NORMAL_FR6000_FG5955_L000_0,5IN_SENSORC.csv'\n",
    "]"
   ]
  },
  {
   "cell_type": "code",
   "execution_count": 31,
   "metadata": {
    "scrolled": true
   },
   "outputs": [
    {
     "data": {
      "text/html": [
       "<div>\n",
       "<style scoped>\n",
       "    .dataframe tbody tr th:only-of-type {\n",
       "        vertical-align: middle;\n",
       "    }\n",
       "\n",
       "    .dataframe tbody tr th {\n",
       "        vertical-align: top;\n",
       "    }\n",
       "\n",
       "    .dataframe thead th {\n",
       "        text-align: right;\n",
       "    }\n",
       "</style>\n",
       "<table border=\"1\" class=\"dataframe\">\n",
       "  <thead>\n",
       "    <tr style=\"text-align: right;\">\n",
       "      <th></th>\n",
       "      <th>Current_R</th>\n",
       "      <th>Current_S</th>\n",
       "      <th>Current_T</th>\n",
       "      <th>Current_hall_R</th>\n",
       "      <th>Current_hall_S</th>\n",
       "      <th>Current_hall_T</th>\n",
       "      <th>Freq_Rated</th>\n",
       "      <th>Freq_Gen</th>\n",
       "      <th>CC_bus</th>\n",
       "      <th>Power</th>\n",
       "      <th>Load</th>\n",
       "      <th>I_R_rms</th>\n",
       "      <th>I_S_rms</th>\n",
       "      <th>I_T_rms</th>\n",
       "    </tr>\n",
       "  </thead>\n",
       "  <tbody>\n",
       "    <tr>\n",
       "      <th>0</th>\n",
       "      <td>0.366486</td>\n",
       "      <td>1.117192</td>\n",
       "      <td>-1.372104</td>\n",
       "      <td>2.298109</td>\n",
       "      <td>2.616753</td>\n",
       "      <td>2.420486</td>\n",
       "      <td>60</td>\n",
       "      <td>59.42</td>\n",
       "      <td>218</td>\n",
       "      <td>0.13</td>\n",
       "      <td>0</td>\n",
       "      <td>1.295173</td>\n",
       "      <td>1.211041</td>\n",
       "      <td>1.249027</td>\n",
       "    </tr>\n",
       "    <tr>\n",
       "      <th>1</th>\n",
       "      <td>0.570073</td>\n",
       "      <td>1.193545</td>\n",
       "      <td>-1.804737</td>\n",
       "      <td>2.331253</td>\n",
       "      <td>2.596358</td>\n",
       "      <td>2.435783</td>\n",
       "      <td>60</td>\n",
       "      <td>59.42</td>\n",
       "      <td>218</td>\n",
       "      <td>0.13</td>\n",
       "      <td>0</td>\n",
       "      <td>1.295173</td>\n",
       "      <td>1.211041</td>\n",
       "      <td>1.249027</td>\n",
       "    </tr>\n",
       "    <tr>\n",
       "      <th>2</th>\n",
       "      <td>1.028144</td>\n",
       "      <td>0.964485</td>\n",
       "      <td>-1.473900</td>\n",
       "      <td>2.323605</td>\n",
       "      <td>2.654994</td>\n",
       "      <td>2.400091</td>\n",
       "      <td>60</td>\n",
       "      <td>59.42</td>\n",
       "      <td>218</td>\n",
       "      <td>0.13</td>\n",
       "      <td>0</td>\n",
       "      <td>1.295173</td>\n",
       "      <td>1.211041</td>\n",
       "      <td>1.249027</td>\n",
       "    </tr>\n",
       "    <tr>\n",
       "      <th>3</th>\n",
       "      <td>-0.206103</td>\n",
       "      <td>0.989936</td>\n",
       "      <td>-1.919258</td>\n",
       "      <td>2.364398</td>\n",
       "      <td>2.614204</td>\n",
       "      <td>2.420486</td>\n",
       "      <td>60</td>\n",
       "      <td>59.42</td>\n",
       "      <td>218</td>\n",
       "      <td>0.13</td>\n",
       "      <td>0</td>\n",
       "      <td>1.295173</td>\n",
       "      <td>1.211041</td>\n",
       "      <td>1.249027</td>\n",
       "    </tr>\n",
       "    <tr>\n",
       "      <th>4</th>\n",
       "      <td>1.091765</td>\n",
       "      <td>0.735425</td>\n",
       "      <td>-1.550247</td>\n",
       "      <td>2.356749</td>\n",
       "      <td>2.680488</td>\n",
       "      <td>2.382245</td>\n",
       "      <td>60</td>\n",
       "      <td>59.42</td>\n",
       "      <td>218</td>\n",
       "      <td>0.13</td>\n",
       "      <td>0</td>\n",
       "      <td>1.295173</td>\n",
       "      <td>1.211041</td>\n",
       "      <td>1.249027</td>\n",
       "    </tr>\n",
       "  </tbody>\n",
       "</table>\n",
       "</div>"
      ],
      "text/plain": [
       "   Current_R  Current_S  Current_T  Current_hall_R  Current_hall_S  \\\n",
       "0   0.366486   1.117192  -1.372104        2.298109        2.616753   \n",
       "1   0.570073   1.193545  -1.804737        2.331253        2.596358   \n",
       "2   1.028144   0.964485  -1.473900        2.323605        2.654994   \n",
       "3  -0.206103   0.989936  -1.919258        2.364398        2.614204   \n",
       "4   1.091765   0.735425  -1.550247        2.356749        2.680488   \n",
       "\n",
       "   Current_hall_T  Freq_Rated  Freq_Gen  CC_bus  Power  Load   I_R_rms  \\\n",
       "0        2.420486          60     59.42     218   0.13     0  1.295173   \n",
       "1        2.435783          60     59.42     218   0.13     0  1.295173   \n",
       "2        2.400091          60     59.42     218   0.13     0  1.295173   \n",
       "3        2.420486          60     59.42     218   0.13     0  1.295173   \n",
       "4        2.382245          60     59.42     218   0.13     0  1.295173   \n",
       "\n",
       "    I_S_rms   I_T_rms  \n",
       "0  1.211041  1.249027  \n",
       "1  1.211041  1.249027  \n",
       "2  1.211041  1.249027  \n",
       "3  1.211041  1.249027  \n",
       "4  1.211041  1.249027  "
      ]
     },
     "execution_count": 31,
     "metadata": {},
     "output_type": "execute_result"
    }
   ],
   "source": [
    "df = pd.read_csv(os.path.join(dataset_folder, DATAFILES[2]))\n",
    "df.head()"
   ]
  },
  {
   "cell_type": "markdown",
   "metadata": {},
   "source": [
    "### a) Comparativo da média do sinal e sua distribuição\n",
    "\n",
    "- Realize o calculo da média e desvio padrão em cada um dos sinais e exiba o resultado em um dataframe. Discuta suas conclusões.\n",
    "\n",
    "**help**: utilize as funcões nativas do numpy ou do pandas. Lembre que o sinal é uma senoide, qual a média em uma senoide simétrica?"
   ]
  },
  {
   "cell_type": "code",
   "execution_count": 3,
   "metadata": {},
   "outputs": [],
   "source": [
    "# code here"
   ]
  },
  {
   "cell_type": "markdown",
   "metadata": {},
   "source": [
    "### b) Extração de atributos no sinal\n",
    "\n",
    "- Utilize o código de `feature_extraction_signal` em: https://github.com/navarmn/feature_extraction_signal\n",
    "- Use as classes `Fourier` e `HOS` de maneira adequada. Lembre do método `.transform()`.\n",
    "- Na classe `Fourier`utilize os parâmetros: `fs=5000`; o valor de fundamental está na TAG do nome em `_FG5955_`significa `fundamental=59.55`. `harmonics=(0.5, 1, 1.5, 2.5, 3, 5, 7)`, mas sintam-se à vontade para buscar outras harmônicas;\n",
    "- Os rótulos devem serem impostos de acordo com a descrição da tag feita cima. \n",
    "- Monte um dataframe que contenham os atributos em cada coluna e a útlima com o rótulo. Concatene os artibutos extraídos da `Current_R`, `Current_S` e `Current_T`.\n",
    "- Deverá ser feito um dataframe para os atributos de Fourier e um para os atributos de HOS."
   ]
  },
  {
   "cell_type": "code",
   "execution_count": 4,
   "metadata": {},
   "outputs": [],
   "source": [
    "# code here"
   ]
  },
  {
   "cell_type": "markdown",
   "metadata": {},
   "source": [
    "### c) Análise exploratória na base criada com os extratores de atributos\n",
    "- Use a ferramenta `pandas-profiling` https://github.com/pandas-profiling/pandas-profiling\n",
    "- Faça um resumo do relatório, destacando os principais pontos gerados na base.\n",
    "- Faça uma análise para cada uma das bases:\n",
    "    1. Features criada com Fourier\n",
    "    2. Features criada com HOS\n",
    "    3. Combinação das duas features (Fourier + HOS). \n",
    "> Dica: dê atenção ao coeficiente de correlação."
   ]
  },
  {
   "cell_type": "code",
   "execution_count": 5,
   "metadata": {},
   "outputs": [],
   "source": [
    "# code here"
   ]
  },
  {
   "cell_type": "markdown",
   "metadata": {},
   "source": [
    "# Feature Selection"
   ]
  },
  {
   "cell_type": "markdown",
   "metadata": {},
   "source": [
    "## 1. Realizar um estudo de relevância de atributos utilzando as técnicas exibidas na aula.\n",
    "\n",
    "Nesse momento utilize a base de dados `Clinical_data_09-09-19-processed.csv`. Uma breve descrição da base:\n",
    "- Contém um histórico dos registros de pacientes acometidos com uma determinada patologia.\n",
    "- Os registros são variados, vão desde resposta de questionários médicos de anamnese, por exemplo, \"*É fumante nos últimos 5 anos?*\", \"*Faz uso de álcool constantemente?*\", até resultados de exames clínicos como ECG e Ecocardiograma.\n",
    "- O rótulo dessa base é a coluna `Óbito`."
   ]
  },
  {
   "cell_type": "markdown",
   "metadata": {},
   "source": [
    "### Carregue a base"
   ]
  },
  {
   "cell_type": "code",
   "execution_count": 6,
   "metadata": {},
   "outputs": [],
   "source": [
    "# code here"
   ]
  },
  {
   "cell_type": "markdown",
   "metadata": {},
   "source": [
    "### a) Análise exploratória na base de dados\n",
    "- Use a ferramenta `pandas-profiling` https://github.com/pandas-profiling/pandas-profiling\n",
    "- Faça um resumo do relatório, destacando os principais pontos gerados na base."
   ]
  },
  {
   "cell_type": "code",
   "execution_count": 7,
   "metadata": {},
   "outputs": [],
   "source": [
    "# code here"
   ]
  },
  {
   "cell_type": "markdown",
   "metadata": {},
   "source": [
    "### b) Identicar qual a variáveis parecem influenciar no óbito dos pacientes :(\n",
    "- Utilize o código `feature_selection_framework` https://github.com/navarmn/feature_selection_framework \n",
    "- Monte o resultado em um `DataFrame`, as colunas serão referentes aos métodos e as linhas deverão ser os atributos. Coloque 1 quando o método indicar como relevante e 0 quando o método indicar com não relevante;\n",
    "- Utilize o seguinte critério para validar um atributo como relevante: moda >= 3"
   ]
  },
  {
   "cell_type": "code",
   "execution_count": 11,
   "metadata": {},
   "outputs": [],
   "source": [
    "# code here"
   ]
  },
  {
   "cell_type": "markdown",
   "metadata": {},
   "source": [
    "## 2. QUESTÃO DESAFIO\n",
    "- Essa etapa não entrará com atividade avaliativa, pois a base de dados a seguir não é tão bonita quanto parece 🤪. Há muitas etapas de pré-processamento, agrupmaento e mais importante de tudo, o usuário tem que fazer as duas tabelas `weekly-infos-before-shrink.csv` e `user-status-after-shrink.csv` conversarem entre si.\n",
    "- Fique à vontade para tentar e para tirar dúvidas. 😊"
   ]
  },
  {
   "cell_type": "markdown",
   "metadata": {},
   "source": [
    "Nesse momento utilize a base de dados `weekly-infos-before-shrink.csv` e `user-status-after-shrink.csv`. Uma breve descrição da base:\n",
    "- Essa base foi retirada de um serviço de streaming de midia. Os atributos são relativos a perfis de consumo de usuários.\n",
    "- O objetivo é realizar detecção de *churn* (https://resultadosdigitais.com.br/blog/o-que-e-churn/)\n",
    "- Possui um registro de 17 semanas de uso e os rótulos estáo na tabela `user-status-after-shrink.csv`, que indicam se ao final do período o usuário cancelou e se manteve assinante."
   ]
  },
  {
   "cell_type": "code",
   "execution_count": 8,
   "metadata": {},
   "outputs": [],
   "source": [
    "# code here"
   ]
  },
  {
   "cell_type": "markdown",
   "metadata": {},
   "source": [
    "### a) Análise exploratória na base de dados\n",
    "- Use a ferramenta `pandas-profiling` https://github.com/pandas-profiling/pandas-profiling\n",
    "- Faça um resumo do relatório, destacando os principais pontos gerados na base.\n",
    "> Exiba a matriz de correlação!"
   ]
  },
  {
   "cell_type": "code",
   "execution_count": 9,
   "metadata": {},
   "outputs": [],
   "source": [
    "# code here"
   ]
  },
  {
   "cell_type": "markdown",
   "metadata": {},
   "source": [
    "### b) Identicar qual a variáveis parecem influenciar no cancelamento da assinatura.\n",
    "\n",
    "- Utilize o código `feature_selection_framework` https://github.com/navarmn/feature_selection_framework \n",
    "- Monte o resultado em um `DataFrame`, as colunas serão referentes aos métodos e as linhas deverão ser os atributos. Coloque 1 quando o método indicar como relevante e 0 quando o método indicar com não relevante;\n",
    "- Utilize o seguinte critério para validar um atributo como relevante: moda >= 3"
   ]
  },
  {
   "cell_type": "code",
   "execution_count": 10,
   "metadata": {},
   "outputs": [],
   "source": [
    "# code here"
   ]
  }
 ],
 "metadata": {
  "kernelspec": {
   "display_name": "1Dimensional Exercises",
   "language": "python",
   "name": "python-data-science"
  },
  "language_info": {
   "codemirror_mode": {
    "name": "ipython",
    "version": 3
   },
   "file_extension": ".py",
   "mimetype": "text/x-python",
   "name": "python",
   "nbconvert_exporter": "python",
   "pygments_lexer": "ipython3",
   "version": "3.6.10"
  }
 },
 "nbformat": 4,
 "nbformat_minor": 4
}
