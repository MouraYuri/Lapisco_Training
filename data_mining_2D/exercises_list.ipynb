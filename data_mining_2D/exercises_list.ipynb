{
 "cells": [
  {
   "cell_type": "markdown",
   "metadata": {},
   "source": [
    "## Questão 1"
   ]
  },
  {
   "cell_type": "markdown",
   "metadata": {},
   "source": [
    "### Item 1"
   ]
  },
  {
   "cell_type": "markdown",
   "metadata": {},
   "source": [
    "#### Imports"
   ]
  },
  {
   "cell_type": "code",
   "execution_count": 3,
   "metadata": {},
   "outputs": [],
   "source": [
    "import cv2 as cv\n",
    "import numpy as np"
   ]
  },
  {
   "cell_type": "code",
   "execution_count": 4,
   "metadata": {},
   "outputs": [],
   "source": [
    "#importing image\n",
    "\n",
    "img = cv.imread('./numbers_dataset/1.jpg')"
   ]
  },
  {
   "cell_type": "markdown",
   "metadata": {},
   "source": [
    "#### Creating chainCode function"
   ]
  },
  {
   "cell_type": "code",
   "execution_count": 5,
   "metadata": {
    "scrolled": true
   },
   "outputs": [],
   "source": [
    "def chainCode(img):\n",
    "\n",
    "    #Converting img to grayscale\n",
    "    img = cv.cvtColor(img, cv.COLOR_BGR2GRAY)\n",
    "\n",
    "    #thresholding img\n",
    "    _, imgThresholded = cv.threshold(img, 200, 255,cv.THRESH_BINARY)\n",
    "\n",
    "    #maybe the input image has a white background, so we need to invert the colors\n",
    "    #we are assuming that the object is smaller than the background\n",
    "    white_pixels,black_pixels = np.where(imgThresholded==255),np.where(imgThresholded==0)\n",
    "    if len(white_pixels[0]) > len(black_pixels[0]):\n",
    "        imgThresholded = cv.bitwise_not(imgThresholded)\n",
    "\n",
    "    #dilating the object\n",
    "    element = cv.getStructuringElement(shape=cv.MORPH_RECT, ksize=(3,3))\n",
    "    imgDilated = cv.dilate(imgThresholded, element)\n",
    "\n",
    "    #subtracting to only get the edges\n",
    "    imgDilated = imgDilated - imgThresholded\n",
    "\n",
    "    #finding the first white pixel\n",
    "    initialPoint = np.where(imgDilated==255)\n",
    "    initialPoint = (initialPoint[0][0], initialPoint[1][0])\n",
    "\n",
    "    #deleting variables which will not be usefull anymore\n",
    "    del imgThresholded, white_pixels, black_pixels\n",
    "    \n",
    "    ret_vec = []\n",
    "    point = initialPoint\n",
    "    \n",
    "    dilatedCopy = np.zeros_like(imgDilated)\n",
    "    while True:\n",
    "        \n",
    "        #verify if the right pixel is an edge \n",
    "        if imgDilated[point[0],point[1]+1] == 255:\n",
    "            ret_vec.append(0)\n",
    "            point = (point[0],point[1]+1)\n",
    "            imgDilated[point] = 0\n",
    "            dilatedCopy[point] = 180\n",
    "\n",
    "        #verify if the below pixel is an edge\n",
    "        elif imgDilated[point[0]+1,point[1]] == 255:\n",
    "            ret_vec.append(6)\n",
    "            point = (point[0]+1,point[1])\n",
    "            imgDilated[point] = 0\n",
    "            dilatedCopy[point] = 180\n",
    "        \n",
    "\n",
    "        #verify if the left pixel is an edge\n",
    "        elif imgDilated[point[0],point[1]-1] == 255:\n",
    "            ret_vec.append(4)\n",
    "            point = (point[0],point[1]-1)\n",
    "            imgDilated[point] = 0\n",
    "            dilatedCopy[point] = 180\n",
    "\n",
    "        #verify if the above pixel is an edge\n",
    "        elif imgDilated[point[0]-1,point[1]] == 255:\n",
    "            ret_vec.append(2)\n",
    "            point = (point[0]-1,point[1])\n",
    "            imgDilated[point] = 0\n",
    "            dilatedCopy[point] = 180\n",
    "\n",
    "        #verify if the right-down pixel is an edge \n",
    "        elif imgDilated[point[0]+1,point[1]+1] == 255:\n",
    "            ret_vec.append(7)\n",
    "            point = (point[0]+1,point[1]+1)\n",
    "            imgDilated[point] = 0\n",
    "            dilatedCopy[point] = 180\n",
    "\n",
    "        #verify if the left-down pixel is an edge \n",
    "        elif imgDilated[point[0]-1,point[1]+1] == 255:\n",
    "            ret_vec.append(5)\n",
    "            point = (point[0]-1,point[1]+1)\n",
    "            imgDilated[point] = 0\n",
    "            dilatedCopy[point] = 180\n",
    "\n",
    "        #verify if the left-up pixel is an edge \n",
    "        elif imgDilated[point[0]-1,point[1]-1] == 255:\n",
    "            ret_vec.append(3)\n",
    "            point = (point[0]-1,point[1]-1)\n",
    "            imgDilated[point] = 0\n",
    "            dilatedCopy[point] = 180\n",
    "\n",
    "        #verify if the right-up pixel is an edge \n",
    "        elif imgDilated[point[0]-1,point[1]+1] == 255:\n",
    "            ret_vec.append(1)\n",
    "            point = (point[0]-1,point[1]+1)\n",
    "            imgDilated[point] = 0\n",
    "            dilatedCopy[point] = 180\n",
    "\n",
    "        #cv.imshow('dilatedCopy', dilatedCopy)\n",
    "        #cv.waitKey(5)\n",
    "\n",
    "        #if we reach the initialPoint then we break    \n",
    "        if point==initialPoint: break\n",
    "    return ret_vec"
   ]
  },
  {
   "cell_type": "code",
   "execution_count": 17,
   "metadata": {},
   "outputs": [
    {
     "name": "stdout",
     "output_type": "stream",
     "text": [
      "[0, 0, 0, 0, 0, 0, 0, 0, 0, 0, 0, 0, 0, 0, 0, 6, 0, 0, 0, 0, 6, 0, 0, 0, 6, 0, 0, 6, 0, 0, 6, 0, 0, 6, 0, 6, 0, 0, 6, 0, 6, 0, 6, 0, 0, 6, 6, 0, 6, 0, 6, 0, 6, 0, 6, 6, 0, 6, 0, 6, 6, 0, 6, 6, 0, 6, 6, 0, 6, 6, 0, 6, 6, 6, 0, 6, 6, 6, 0, 6, 6, 6, 6, 0, 6, 6, 6, 6, 0, 6, 6, 6, 6, 6, 6, 6, 0, 6, 6, 6, 6, 6, 6, 6, 6, 6, 6, 6, 6, 6, 6, 6, 6, 6, 6, 6, 6, 6, 6, 6, 6, 6, 6, 6, 6, 6, 6, 6, 6, 6, 6, 6, 6, 6, 6, 6, 6, 6, 6, 6, 6, 6, 6, 6, 6, 6, 6, 6, 6, 6, 6, 6, 6, 6, 6, 6, 6, 6, 6, 6, 6, 0, 6, 6, 6, 6, 6, 6, 6, 6, 6, 6, 6, 6, 6, 6, 6, 6, 6, 6, 6, 6, 6, 6, 6, 6, 6, 6, 6, 6, 6, 6, 6, 6, 6, 6, 6, 6, 6, 6, 6, 6, 0, 6, 6, 6, 6, 6, 6, 6, 6, 6, 6, 6, 6, 6, 6, 6, 6, 6, 6, 6, 6, 6, 6, 6, 6, 6, 6, 6, 6, 6, 6, 6, 6, 6, 6, 6, 6, 6, 6, 6, 6, 6, 6, 6, 6, 6, 6, 0, 6, 6, 6, 6, 6, 6, 6, 6, 6, 6, 6, 6, 6, 6, 6, 6, 6, 6, 6, 6, 6, 6, 6, 6, 6, 6, 6, 6, 6, 6, 6, 6, 6, 6, 6, 6, 6, 0, 6, 6, 6, 6, 6, 6, 6, 6, 6, 6, 6, 6, 6, 6, 6, 6, 6, 6, 6, 6, 6, 6, 6, 6, 6, 6, 6, 6, 6, 6, 6, 6, 6, 6, 6, 6, 6, 6, 6, 6, 6, 6, 6, 6, 6, 6, 0, 6, 6, 6, 6, 6, 6, 6, 6, 6, 6, 6, 6, 6, 6, 6, 6, 6, 6, 6, 6, 6, 6, 6, 6, 6, 6, 6, 6, 6, 6, 6, 6, 6, 6, 6, 6, 0, 6, 6, 6, 6, 6, 6, 6, 6, 6, 6, 6, 6, 6, 6, 6, 6, 6, 6, 6, 6, 6, 6, 6, 6, 6, 6, 6, 6, 6, 0, 6, 6, 6, 6, 6, 6, 6, 6, 6, 6, 6, 6, 6, 6, 6, 6, 6, 6, 6, 6, 6, 6, 6, 6, 6, 6, 6, 0, 6, 6, 6, 6, 6, 6, 6, 6, 6, 6, 6, 6, 6, 6, 6, 6, 6, 6, 6, 6, 6, 6, 6, 6, 6, 6, 6, 6, 6, 0, 6, 6, 6, 6, 6, 6, 6, 6, 6, 6, 6, 6, 6, 6, 6, 6, 6, 6, 6, 6, 6, 6, 6, 6, 6, 6, 6, 6, 6, 6, 6, 6, 6, 6, 6, 6, 6, 6, 6, 6, 6, 6, 6, 0, 6, 6, 6, 6, 6, 6, 6, 6, 6, 6, 6, 6, 6, 6, 6, 6, 6, 6, 6, 6, 6, 6, 6, 6, 6, 6, 6, 6, 6, 6, 0, 6, 6, 6, 6, 6, 6, 6, 6, 6, 6, 6, 6, 6, 6, 6, 6, 6, 6, 6, 6, 6, 6, 6, 6, 6, 6, 6, 6, 6, 6, 6, 6, 6, 6, 0, 6, 6, 6, 6, 6, 6, 6, 6, 6, 6, 6, 6, 6, 6, 6, 6, 6, 6, 6, 6, 6, 6, 6, 6, 6, 6, 6, 6, 6, 6, 6, 6, 6, 6, 6, 6, 6, 6, 6, 6, 6, 6, 6, 6, 6, 6, 6, 6, 6, 4, 6, 6, 6, 6, 6, 6, 6, 6, 6, 6, 6, 4, 6, 6, 6, 6, 6, 6, 6, 4, 6, 6, 6, 6, 4, 6, 6, 6, 6, 4, 6, 6, 6, 4, 6, 6, 6, 4, 6, 6, 6, 4, 6, 6, 4, 6, 6, 6, 4, 6, 6, 4, 6, 6, 4, 6, 6, 6, 4, 6, 4, 6, 6, 4, 6, 4, 6, 4, 6, 4, 6, 4, 6, 4, 6, 4, 4, 6, 4, 4, 6, 4, 4, 6, 4, 4, 4, 6, 4, 4, 4, 4, 6, 4, 4, 4, 4, 6, 4, 4, 4, 4, 4, 4, 6, 4, 4, 4, 4, 4, 4, 6, 4, 4, 6, 4, 4, 4, 4, 4, 4, 4, 4, 4, 4, 4, 4, 4, 4, 4, 4, 4, 4, 4, 4, 4, 4, 4, 4, 2, 4, 4, 4, 4, 4, 2, 4, 4, 4, 2, 4, 4, 4, 2, 4, 4, 2, 4, 4, 2, 4, 2, 4, 4, 2, 4, 2, 4, 2, 4, 2, 4, 2, 4, 2, 4, 2, 4, 2, 4, 2, 2, 4, 2, 2, 4, 2, 4, 2, 2, 4, 2, 2, 2, 4, 2, 2, 4, 2, 2, 4, 2, 2, 2, 4, 2, 2, 2, 4, 2, 2, 2, 2, 4, 2, 2, 2, 4, 2, 2, 2, 2, 2, 4, 2, 2, 2, 2, 2, 4, 2, 2, 2, 2, 2, 2, 2, 2, 2, 4, 2, 2, 2, 2, 2, 2, 2, 2, 2, 2, 2, 2, 2, 2, 2, 2, 2, 2, 2, 2, 4, 2, 2, 2, 2, 2, 2, 2, 2, 2, 2, 2, 2, 2, 2, 2, 2, 2, 2, 2, 2, 2, 2, 2, 2, 2, 2, 2, 2, 2, 2, 2, 2, 4, 2, 2, 2, 2, 2, 2, 2, 2, 2, 2, 2, 2, 2, 2, 2, 2, 2, 2, 2, 2, 2, 2, 2, 2, 2, 2, 2, 2, 2, 2, 2, 2, 2, 2, 2, 2, 2, 2, 2, 2, 2, 2, 2, 2, 2, 2, 2, 2, 2, 2, 2, 2, 2, 2, 2, 2, 4, 2, 2, 2, 2, 2, 2, 2, 2, 2, 2, 2, 2, 2, 2, 2, 2, 2, 2, 2, 2, 2, 2, 2, 2, 2, 2, 2, 2, 2, 2, 2, 2, 2, 2, 2, 2, 2, 2, 2, 2, 2, 4, 2, 2, 2, 2, 2, 2, 2, 2, 2, 2, 2, 2, 2, 2, 2, 2, 2, 2, 2, 2, 2, 2, 2, 2, 2, 2, 2, 2, 2, 2, 2, 2, 2, 2, 2, 2, 2, 2, 2, 2, 2, 2, 2, 2, 2, 2, 4, 2, 2, 2, 2, 2, 2, 2, 2, 2, 2, 2, 2, 2, 2, 2, 2, 2, 2, 2, 2, 2, 2, 2, 2, 2, 2, 2, 2, 2, 2, 2, 2, 2, 2, 2, 2, 2, 2, 2, 2, 2, 2, 2, 2, 2, 2, 2, 2, 2, 2, 2, 2, 2, 2, 2, 4, 2, 2, 0, 3, 2, 2, 2, 2, 2, 2, 2, 2, 2, 2, 2, 2, 2, 2, 2, 2, 2, 2, 2, 2, 2, 2, 2, 2, 2, 2, 2, 2, 2, 2, 2, 2, 2, 2, 2, 2, 2, 2, 2, 2, 2, 2, 2, 2, 2, 2, 2, 2, 2, 2, 2, 2, 2, 4, 2, 2, 2, 2, 2, 2, 2, 2, 2, 2, 2, 2, 2, 2, 2, 2, 2, 2, 2, 2, 2, 2, 2, 2, 2, 2, 2, 2, 2, 2, 2, 4, 2, 2, 2, 2, 2, 2, 2, 2, 2, 2, 2, 2, 2, 2, 2, 2, 2, 2, 2, 2, 2, 2, 2, 2, 4, 2, 2, 2, 2, 2, 4, 2, 2, 4, 2, 2, 4, 4, 2, 4, 4, 2, 4, 4, 4, 6, 4, 4, 4, 6, 4, 4, 6, 4, 4, 6, 4, 6, 4, 4, 6, 4, 6, 4, 4, 6, 4, 6, 4, 4, 6, 4, 6, 4, 4, 6, 4, 6, 4, 4, 6, 4, 6, 4, 4, 6, 4, 6, 4, 4, 6, 4, 6, 4, 4, 6, 4, 6, 4, 4, 6, 4, 6, 4, 4, 6, 4, 6, 4, 4, 6, 4, 6, 4, 4, 6, 4, 6, 4, 4, 6, 4, 6, 4, 6, 4, 4, 6, 4, 6, 4, 4, 6, 4, 6, 4, 6, 4, 4, 6, 4, 6, 4, 4, 6, 4, 4, 6, 4, 6, 4, 4, 6, 4, 6, 4, 4, 6, 4, 4, 6, 4, 6, 4, 4, 6, 4, 4, 6, 4, 6, 4, 4, 6, 4, 4, 6, 4, 4, 6, 4, 4, 6, 4, 4, 6, 4, 4, 4, 6, 4, 6, 4, 4, 6, 4, 4, 6, 4, 4, 6, 4, 4, 6, 4, 4, 6, 4, 4, 6, 4, 4, 6, 4, 4, 6, 4, 4, 6, 4, 4, 6, 4, 4, 4, 6, 4, 4, 4, 6, 4, 4, 4, 4, 4, 6, 4, 4, 4, 4, 4, 4, 4, 4, 4, 4, 4, 2, 4, 4, 4, 4, 4, 2, 4, 4, 2, 4, 4, 2, 4, 4, 4, 2, 4, 4, 4, 2, 4, 4, 4, 2, 4, 4, 2, 4, 4, 2, 4, 4, 2, 4, 2, 4, 4, 2, 4, 2, 4, 2, 4, 2, 4, 2, 4, 2, 4, 2, 2, 4, 2, 4, 2, 4, 2, 2, 4, 2, 4, 2, 2, 4, 2, 2, 4, 2, 2, 2, 4, 2, 2, 2, 4, 2, 2, 2, 4, 2, 2, 2, 2, 2, 2, 2, 2, 2, 2, 2, 2, 2, 2, 0, 2, 2, 2, 2, 2, 0, 2, 2, 2, 0, 2, 2, 0, 2, 2, 0, 2, 2, 0, 2, 0, 2, 0, 2, 0, 2, 2, 0, 2, 0, 2, 0, 2, 0, 2, 0, 2, 0, 0, 2, 0, 2, 0, 2, 0, 2, 0, 2, 0, 0, 2, 0, 2, 0, 0, 2, 0, 2, 0, 2, 0, 0, 2, 0, 2, 0, 0, 2, 0, 0, 2, 0, 2, 0, 0, 2, 0, 2, 0, 0, 2, 0, 0, 2, 0, 2, 0, 0, 2, 0, 0, 2, 0, 0, 2, 0, 0, 2, 0, 0, 2, 0, 2, 0, 0, 2, 0, 0, 2, 0, 0, 2, 0, 0, 2, 0, 0, 2, 0, 2, 0, 0, 2, 0, 0, 2, 0, 0, 2, 0, 0, 2, 0, 0, 2, 0, 0, 2, 0, 2, 0, 0, 2, 0, 0, 2, 0, 0, 2, 0, 0, 2, 0, 2, 0, 0, 0, 2, 0, 2, 0, 0, 2, 0, 2, 0, 0, 2, 0, 0, 2, 0, 2, 0, 0, 2, 0, 2, 0, 0, 2, 0, 0, 2, 0, 2, 0, 0, 2, 0, 2, 0, 0, 2, 0, 2, 0, 2, 0, 0, 2, 0, 2, 0, 0, 2, 0, 2, 0, 2, 0, 0, 2, 0, 2, 0, 2, 0, 2, 0, 0, 2, 0, 2, 0, 2, 0, 2, 0, 0, 2, 0, 2, 0, 2, 0, 2, 0, 2, 0, 0, 2, 0, 2, 0, 2, 0, 2, 0, 2, 0, 2, 0, 2, 0, 2, 0, 2, 0, 0, 2, 2, 0, 0, 2, 0, 2, 0, 2, 0, 2, 0, 2, 0, 2, 0, 2, 0, 2, 0, 2, 0, 2, 0, 2, 0, 2, 0, 2, 0, 2, 0, 2, 2, 0, 2, 0, 2, 0, 2, 0, 2, 0, 2, 0, 2, 0, 2, 0, 2, 0, 2, 2, 0, 2, 0, 2, 0, 2, 0, 2, 0, 2, 0, 2, 0, 2, 2, 0, 2, 0, 2, 0, 2, 0, 2, 2, 0, 2, 0, 2, 0, 2, 0, 2, 2, 0, 2, 0, 2, 0, 2, 2, 0, 2, 0, 2, 0, 2, 0, 2, 2, 0, 2, 0, 2, 0, 2, 0, 2, 0, 2, 2, 0, 2, 0, 2, 0, 2, 0, 2, 2, 0, 2, 0, 2, 0, 2, 0, 2, 0, 2, 2, 0, 2, 0, 2, 0, 2, 0, 2, 0, 2, 0, 2, 0, 2, 0, 2, 0, 2, 0, 2, 0, 0, 2, 0, 2, 0, 2, 0, 2, 0, 0, 2, 0, 2, 0, 0, 2, 0, 2, 0, 0, 2, 0, 0, 2, 0, 0, 2, 0, 0, 2, 0, 0, 0, 2, 0, 0, 0, 0, 2]\n"
     ]
    }
   ],
   "source": [
    "cd = chainCode(img)\n",
    "print(cd)"
   ]
  },
  {
   "cell_type": "markdown",
   "metadata": {},
   "source": [
    "### Item 3"
   ]
  },
  {
   "cell_type": "code",
   "execution_count": 20,
   "metadata": {},
   "outputs": [],
   "source": [
    "def drawChainCode(chainCode, retImgSize=(800,640), startPixel=None):\n",
    "    #Creating return image\n",
    "    retImg = np.zeros((retImgSize[0], retImgSize[1]))\n",
    "    \n",
    "    #if no start point is defined then we set a arbitray start point\n",
    "    if startPixel==None:\n",
    "        #count how many times the chainCode go down, in other words, how many 6 we have\n",
    "        count = len([x for x in chainCode if x==6])+20\n",
    "        if count>retImgSize[0]:\n",
    "            print(\"The figure is larger than the image, please use 'retImgSize' parameter to resize the return image.\")\n",
    "            return\n",
    "        point = (int(retImgSize[0]-count), int(retImgSize[1]/2))\n",
    "        \n",
    "    for value in chainCode:\n",
    "        if value==0:            \n",
    "            point = (point[0],point[1]+1)\n",
    "            retImg[point] = 255\n",
    "        if value==1:            \n",
    "            point = (point[0]-1,point[1]+1)\n",
    "            retImg[point] = 255\n",
    "        if value==2:            \n",
    "            point = (point[0]-1,point[1])\n",
    "            retImg[point] = 255\n",
    "        if value==3:            \n",
    "            point = (point[0]-1,point[1]-1)\n",
    "            retImg[point] = 255\n",
    "        if value==4:            \n",
    "            point = (point[0],point[1]-1)\n",
    "            retImg[point] = 255\n",
    "        if value==5:            \n",
    "            point = (point[0]-1,point[1]+1)\n",
    "            retImg[point] = 255\n",
    "        if value==6:            \n",
    "            point = (point[0]+1,point[1])\n",
    "            retImg[point] = 255\n",
    "        if value==7:            \n",
    "            point = (point[0]+1,point[1]+1)\n",
    "            retImg[point] = 255\n",
    "    return retImg"
   ]
  },
  {
   "cell_type": "code",
   "execution_count": 21,
   "metadata": {},
   "outputs": [
    {
     "data": {
      "text/plain": [
       "array([[0., 0., 0., ..., 0., 0., 0.],\n",
       "       [0., 0., 0., ..., 0., 0., 0.],\n",
       "       [0., 0., 0., ..., 0., 0., 0.],\n",
       "       ...,\n",
       "       [0., 0., 0., ..., 0., 0., 0.],\n",
       "       [0., 0., 0., ..., 0., 0., 0.],\n",
       "       [0., 0., 0., ..., 0., 0., 0.]])"
      ]
     },
     "execution_count": 21,
     "metadata": {},
     "output_type": "execute_result"
    }
   ],
   "source": [
    "drawedImg = drawChainCode(cd)\n",
    "cv.imshow('drawedImg', drawedImg)\n",
    "cv.waitKey(0)\n",
    "cv.destroyAllWindows()"
   ]
  }
 ],
 "metadata": {
  "kernelspec": {
   "display_name": "2dFeatureExtraction",
   "language": "python",
   "name": "2dfeatureextraction"
  },
  "language_info": {
   "codemirror_mode": {
    "name": "ipython",
    "version": 3
   },
   "file_extension": ".py",
   "mimetype": "text/x-python",
   "name": "python",
   "nbconvert_exporter": "python",
   "pygments_lexer": "ipython3",
   "version": "3.5.2"
  }
 },
 "nbformat": 4,
 "nbformat_minor": 4
}
