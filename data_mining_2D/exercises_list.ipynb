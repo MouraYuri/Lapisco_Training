{
 "cells": [
  {
   "cell_type": "markdown",
   "metadata": {},
   "source": [
    "## Questão 1"
   ]
  },
  {
   "cell_type": "markdown",
   "metadata": {},
   "source": [
    "### Item 1"
   ]
  },
  {
   "cell_type": "markdown",
   "metadata": {},
   "source": [
    "#### Imports"
   ]
  },
  {
   "cell_type": "code",
   "execution_count": 60,
   "metadata": {},
   "outputs": [],
   "source": [
    "import cv2 as cv\n",
    "import numpy as np"
   ]
  },
  {
   "cell_type": "code",
   "execution_count": 61,
   "metadata": {},
   "outputs": [],
   "source": [
    "#importing image\n",
    "\n",
    "img = cv.imread('./numbers_dataset/1.jpg')\n",
    "cv.imshow('img', img)\n",
    "cv.waitKey(0)\n",
    "cv.destroyAllWindows()"
   ]
  },
  {
   "cell_type": "markdown",
   "metadata": {},
   "source": [
    "#### Creating chainCode function"
   ]
  },
  {
   "cell_type": "code",
   "execution_count": 64,
   "metadata": {
    "scrolled": true
   },
   "outputs": [
    {
     "name": "stdout",
     "output_type": "stream",
     "text": [
      "ret_vec=> []\n",
      "finished without errors!\n"
     ]
    }
   ],
   "source": [
    "def chainCode(img, numberOfDirections=4):\n",
    "    \n",
    "    \n",
    "    #Converting img to grayscale\n",
    "    imgGray = cv.cvtColor(img, cv.COLOR_BGR2GRAY)\n",
    "\n",
    "    #thresholding img\n",
    "    _, imgThresholded = cv.threshold(imgGray, 200, 255,cv.THRESH_BINARY)\n",
    "\n",
    "    #maybe the input image has a white background, so we need to invert the colors\n",
    "    #we are assuming that the object is smaller than the background\n",
    "    white_pixels,black_pixels = np.where(imgThresholded==255),np.where(imgThresholded==0)\n",
    "    if len(white_pixels[0]) > len(black_pixels[0]):\n",
    "        imgThresholded = cv.bitwise_not(imgThresholded)\n",
    "\n",
    "    #dilating the object\n",
    "    element = cv.getStructuringElement(shape=cv.MORPH_RECT, ksize=(3,3))\n",
    "    imgDilated = cv.dilate(imgThresholded, element)\n",
    "        \n",
    "    #finding the first white pixel\n",
    "    initialPoint = np.where(imgThresholded==255)\n",
    "    initialPoint = (initialPoint[1][0], initialPoint[0][0])\n",
    "    img = cv.circle(imgGray, center=(initialPoint), radius=10, color=110)\n",
    "\n",
    "    #subtracting to only get the edges\n",
    "    imgDilated = imgDilated - imgThresholded\n",
    "    \n",
    "    ret_vec = []\n",
    "    point = initialPoint\n",
    "    \n",
    "    \n",
    "    while True:\n",
    "        \n",
    "        #verify if the right pixel is an edge \n",
    "        if imgDilated[point[0],point[1]+1] == 255:\n",
    "            ret_vec.append(0)\n",
    "            point = (point[0],point[1]+1)\n",
    "            img[point] = 100\n",
    "            img = cv.circle(img, center=(point), radius=10, color=110)\n",
    "            \n",
    "        #verify if the below pixel is an edge\n",
    "        if imgDilated[point[0]+1,point[1]] == 255:\n",
    "            ret_vec.append(6)\n",
    "            point = (point[0]+1,point[1])\n",
    "            img[point] = 100\n",
    "            img = cv.circle(img, center=(point), radius=10, color=110)\n",
    "        \n",
    "        #verify if the left pixel is an edge\n",
    "        if imgDilated[point[0],point[1]-1] == 255:\n",
    "            ret_vec.append(4)\n",
    "            point = (point[0],point[1]-1)\n",
    "            img[point] = 100\n",
    "            img = cv.circle(img, center=(point), radius=10, color=110)\n",
    "            \n",
    "        #verify if the above pixel is an edge\n",
    "        if imgDilated[point[0]-1,point[1]] == 255:\n",
    "            ret_vec.append(2)\n",
    "            point = (point[0]-1,point[1])\n",
    "            img[point] = 100\n",
    "            img = cv.circle(img, center=(point), radius=10, color=110)\n",
    "        \n",
    "        cv.imshow('img', img)\n",
    "        cv.waitKey(2)\n",
    "            \n",
    "        #if we reach the initialPoint then we break    \n",
    "        if point==initialPoint: break\n",
    "    \n",
    "    print('ret_vec=>', ret_vec)\n",
    "    print('finished without errors!')\n",
    "    \n",
    "    cv.imshow('img', img)\n",
    "    cv.imshow('imgDilated', imgDilated)\n",
    "    cv.waitKey(0)\n",
    "    cv.destroyAllWindows()\n",
    "        \n",
    "chainCode(img)"
   ]
  },
  {
   "cell_type": "code",
   "execution_count": null,
   "metadata": {},
   "outputs": [],
   "source": [
    "cd = ChainCode(directions_number=4)\n",
    "cd.apply(img)"
   ]
  }
 ],
 "metadata": {
  "kernelspec": {
   "display_name": "2dFeatureExtraction",
   "language": "python",
   "name": "2dfeatureextraction"
  },
  "language_info": {
   "codemirror_mode": {
    "name": "ipython",
    "version": 3
   },
   "file_extension": ".py",
   "mimetype": "text/x-python",
   "name": "python",
   "nbconvert_exporter": "python",
   "pygments_lexer": "ipython3",
   "version": "3.5.2"
  }
 },
 "nbformat": 4,
 "nbformat_minor": 4
}
