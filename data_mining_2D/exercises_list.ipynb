{
 "cells": [
  {
   "cell_type": "markdown",
   "metadata": {},
   "source": [
    "# Question 1"
   ]
  },
  {
   "cell_type": "markdown",
   "metadata": {},
   "source": [
    "### Item 1"
   ]
  },
  {
   "cell_type": "markdown",
   "metadata": {},
   "source": [
    "#### Imports"
   ]
  },
  {
   "cell_type": "code",
   "execution_count": 25,
   "metadata": {},
   "outputs": [],
   "source": [
    "import cv2 as cv\n",
    "import numpy as np\n",
    "from os import path\n",
    "from matplotlib import pyplot as plt\n",
    "import pandas as pd\n",
    "from skimage.feature import local_binary_pattern as lbp, greycoprops,greycomatrix"
   ]
  },
  {
   "cell_type": "code",
   "execution_count": 27,
   "metadata": {},
   "outputs": [],
   "source": [
    "#importing images\n",
    "datasetFolder = path.join('.', 'numbers_dataset')\n",
    "datasetImages = ['1_1.png', '1_2.jpg','1_4.png',  '1_5.jpg',  '1_6.png',  '1.jpg']\n",
    "\n",
    "#reading images and converting them to grayscale\n",
    "images = [cv.imread(path.join(datasetFolder, p)) for p in datasetImages if p!='1_6.png' and p!=\"1_5.jpg\"]\n",
    "images = [cv.cvtColor(image, cv.COLOR_BGR2GRAY) for image in images]\n"
   ]
  },
  {
   "cell_type": "markdown",
   "metadata": {},
   "source": [
    "#### Creating chainCode function"
   ]
  },
  {
   "cell_type": "code",
   "execution_count": 11,
   "metadata": {
    "scrolled": true
   },
   "outputs": [],
   "source": [
    "\n",
    "def chainCode(img):\n",
    "\n",
    "    #Converting img to grayscale\n",
    "    img = cv.cvtColor(img, cv.COLOR_BGR2GRAY)\n",
    "\n",
    "    #thresholding img\n",
    "    _, imgThresholded = cv.threshold(img, 200, 255,cv.THRESH_BINARY)\n",
    "\n",
    "    #maybe the input image has a white background, so we need to invert the colors\n",
    "    #we are assuming that the object is smaller than the background\n",
    "    white_pixels,black_pixels = np.where(imgThresholded==255),np.where(imgThresholded==0)\n",
    "    if len(white_pixels[0]) > len(black_pixels[0]):\n",
    "        imgThresholded = cv.bitwise_not(imgThresholded)\n",
    "\n",
    "    #dilating the object\n",
    "    element = cv.getStructuringElement(shape=cv.MORPH_RECT, ksize=(3,3))\n",
    "    imgDilated = cv.dilate(imgThresholded, element)\n",
    "\n",
    "    #subtracting to only get the edges\n",
    "    imgDilated = imgDilated - imgThresholded\n",
    "\n",
    "    #finding the first white pixel\n",
    "    initialPoint = np.where(imgDilated==255)\n",
    "    initialPoint = (initialPoint[0][0], initialPoint[1][0])\n",
    "\n",
    "    #deleting variables which will not be usefull anymore\n",
    "    del imgThresholded, white_pixels, black_pixels\n",
    "    \n",
    "    ret_vec = []\n",
    "    point = initialPoint\n",
    "    \n",
    "    dilatedCopy = np.zeros_like(imgDilated)\n",
    "    while True:\n",
    "        \n",
    "        #verify if the right pixel is an edge \n",
    "        if imgDilated[point[0],point[1]+1] == 255:\n",
    "            ret_vec.append(0)\n",
    "            point = (point[0],point[1]+1)\n",
    "            imgDilated[point] = 0\n",
    "            dilatedCopy[point] = 180\n",
    "\n",
    "        #verify if the below pixel is an edge\n",
    "        elif imgDilated[point[0]+1,point[1]] == 255:\n",
    "            ret_vec.append(6)\n",
    "            point = (point[0]+1,point[1])\n",
    "            imgDilated[point] = 0\n",
    "            dilatedCopy[point] = 180\n",
    "        \n",
    "\n",
    "        #verify if the left pixel is an edge\n",
    "        elif imgDilated[point[0],point[1]-1] == 255:\n",
    "            ret_vec.append(4)\n",
    "            point = (point[0],point[1]-1)\n",
    "            imgDilated[point] = 0\n",
    "            dilatedCopy[point] = 180\n",
    "\n",
    "        #verify if the above pixel is an edge\n",
    "        elif imgDilated[point[0]-1,point[1]] == 255:\n",
    "            ret_vec.append(2)\n",
    "            point = (point[0]-1,point[1])\n",
    "            imgDilated[point] = 0\n",
    "            dilatedCopy[point] = 180\n",
    "\n",
    "        #verify if the right-down pixel is an edge \n",
    "        elif imgDilated[point[0]+1,point[1]+1] == 255:\n",
    "            ret_vec.append(7)\n",
    "            point = (point[0]+1,point[1]+1)\n",
    "            imgDilated[point] = 0\n",
    "            dilatedCopy[point] = 180\n",
    "\n",
    "        #verify if the left-down pixel is an edge \n",
    "        elif imgDilated[point[0]+1,point[1]-1] == 255:\n",
    "            ret_vec.append(5)\n",
    "            point = (point[0]+1,point[1]-1)\n",
    "            imgDilated[point] = 0\n",
    "            dilatedCopy[point] = 180\n",
    "\n",
    "        #verify if the left-up pixel is an edge \n",
    "        elif imgDilated[point[0]-1,point[1]-1] == 255:\n",
    "            ret_vec.append(3)\n",
    "            point = (point[0]-1,point[1]-1)\n",
    "            imgDilated[point] = 0\n",
    "            dilatedCopy[point] = 180\n",
    "\n",
    "        #verify if the right-up pixel is an edge \n",
    "        elif imgDilated[point[0]-1,point[1]+1] == 255:\n",
    "            ret_vec.append(1)\n",
    "            point = (point[0]-1,point[1]+1)\n",
    "            imgDilated[point] = 0\n",
    "            dilatedCopy[point] = 180\n",
    "\n",
    "        #cv.imshow('dilatedCopy', dilatedCopy)\n",
    "        #cv.waitKey(5)\n",
    "\n",
    "        #if we reach the initialPoint then we break    \n",
    "        if point==initialPoint: break\n",
    "    return ret_vec\n"
   ]
  },
  {
   "cell_type": "code",
   "execution_count": 12,
   "metadata": {},
   "outputs": [
    {
     "name": "stdout",
     "output_type": "stream",
     "text": [
      "[0, 0, 0, 0, 0, 0, 0, 0, 0, 0, 0, 0, 0, 0, 0, 0, 0, 0, 0, 0, 0, 0, 0, 0, 0, 0, 0, 0, 0, 0, 0, 0, 0, 0, 0, 0, 0, 0, 0, 0, 0, 0, 0, 0, 0, 0, 0, 0, 0, 0, 0, 0, 0, 0, 0, 0, 0, 0, 0, 0, 0, 0, 0, 0, 0, 0, 0, 0, 0, 0, 0, 0, 0, 0, 0, 0, 0, 0, 0, 0, 0, 0, 0, 0, 0, 0, 6, 6, 6, 6, 6, 6, 6, 6, 6, 6, 6, 6, 6, 6, 6, 6, 6, 6, 6, 6, 6, 6, 6, 6, 6, 6, 6, 6, 6, 6, 6, 6, 0, 6, 6, 6, 6, 6, 6, 6, 6, 6, 6, 6, 6, 6, 6, 6, 6, 6, 6, 6, 6, 6, 6, 6, 6, 6, 6, 6, 6, 6, 6, 6, 6, 6, 6, 6, 6, 6, 6, 6, 6, 6, 6, 6, 6, 6, 6, 6, 6, 6, 6, 6, 6, 6, 6, 6, 6, 6, 6, 6, 6, 6, 6, 6, 6, 6, 6, 6, 6, 6, 6, 6, 6, 6, 6, 6, 6, 6, 6, 6, 6, 6, 6, 6, 6, 6, 6, 6, 6, 6, 6, 6, 6, 6, 6, 6, 6, 6, 6, 6, 6, 6, 6, 6, 6, 6, 6, 6, 6, 6, 6, 6, 6, 6, 6, 6, 6, 6, 6, 6, 6, 6, 6, 6, 6, 6, 6, 6, 6, 6, 6, 6, 6, 6, 6, 6, 6, 6, 6, 6, 6, 6, 6, 6, 6, 6, 6, 6, 6, 6, 6, 6, 6, 6, 6, 6, 6, 6, 6, 6, 6, 6, 6, 6, 6, 6, 6, 6, 6, 6, 6, 6, 6, 6, 6, 6, 6, 6, 6, 6, 6, 6, 6, 6, 6, 6, 6, 6, 6, 6, 6, 6, 6, 6, 6, 6, 6, 6, 6, 6, 6, 6, 6, 6, 6, 6, 6, 6, 6, 6, 6, 6, 6, 6, 6, 6, 6, 6, 6, 6, 6, 6, 6, 6, 6, 6, 6, 6, 6, 6, 6, 6, 6, 6, 6, 6, 6, 6, 6, 6, 6, 6, 6, 6, 6, 6, 6, 6, 6, 6, 6, 6, 6, 6, 6, 6, 6, 6, 6, 6, 6, 6, 6, 6, 6, 6, 6, 6, 6, 6, 6, 6, 6, 6, 6, 6, 6, 6, 6, 6, 6, 6, 6, 6, 6, 6, 6, 6, 6, 6, 6, 6, 6, 6, 6, 6, 6, 6, 6, 6, 6, 6, 6, 6, 6, 6, 6, 6, 6, 6, 6, 6, 6, 6, 6, 6, 6, 6, 6, 6, 6, 6, 6, 6, 6, 6, 6, 6, 6, 6, 6, 6, 6, 6, 6, 6, 6, 6, 6, 6, 6, 6, 6, 6, 6, 6, 6, 6, 6, 6, 6, 6, 6, 6, 6, 6, 6, 6, 6, 6, 6, 6, 6, 6, 6, 6, 6, 6, 6, 6, 6, 6, 6, 6, 6, 6, 6, 6, 6, 6, 6, 6, 6, 6, 6, 6, 6, 6, 6, 6, 6, 6, 6, 6, 6, 6, 6, 6, 6, 6, 6, 6, 6, 4, 6, 4, 4, 4, 4, 4, 4, 4, 4, 4, 4, 4, 4, 4, 4, 4, 4, 4, 4, 4, 4, 4, 4, 4, 4, 4, 4, 4, 4, 4, 4, 4, 4, 4, 4, 4, 4, 4, 4, 4, 4, 4, 4, 4, 4, 4, 4, 4, 4, 4, 4, 4, 4, 4, 4, 4, 4, 4, 4, 4, 4, 4, 4, 4, 4, 4, 4, 4, 4, 4, 4, 4, 4, 4, 4, 4, 4, 4, 4, 4, 4, 4, 4, 4, 4, 4, 4, 4, 4, 4, 4, 4, 4, 4, 4, 4, 4, 4, 4, 4, 4, 4, 4, 4, 4, 4, 4, 4, 4, 4, 4, 4, 4, 4, 4, 4, 4, 4, 4, 4, 4, 4, 4, 4, 4, 4, 4, 4, 2, 4, 2, 2, 2, 2, 2, 2, 2, 2, 2, 2, 2, 2, 2, 2, 2, 2, 2, 2, 2, 2, 2, 2, 2, 2, 2, 2, 2, 2, 2, 2, 2, 2, 2, 2, 2, 2, 2, 2, 2, 2, 2, 2, 2, 2, 2, 2, 2, 2, 2, 2, 2, 2, 2, 2, 2, 2, 2, 2, 2, 2, 2, 2, 2, 2, 2, 2, 2, 2, 2, 2, 2, 2, 2, 2, 2, 2, 2, 2, 2, 2, 2, 2, 2, 2, 2, 2, 2, 2, 2, 2, 2, 2, 2, 2, 2, 2, 2, 2, 2, 2, 2, 2, 2, 2, 2, 2, 2, 2, 2, 2, 2, 2, 2, 2, 2, 2, 2, 2, 2, 2, 2, 2, 2, 2, 2, 2, 2, 2, 2, 2, 2, 2, 2, 2, 2, 2, 2, 2, 2, 2, 2, 2, 2, 2, 2, 2, 2, 2, 2, 2, 2, 2, 2, 2, 2, 2, 2, 2, 2, 2, 2, 2, 2, 2, 2, 2, 2, 2, 2, 2, 2, 2, 2, 2, 2, 2, 2, 2, 2, 2, 2, 2, 2, 2, 2, 2, 2, 2, 2, 2, 2, 2, 2, 2, 2, 2, 2, 2, 2, 2, 2, 2, 2, 2, 2, 2, 2, 2, 2, 2, 2, 2, 2, 2, 2, 2, 2, 2, 2, 2, 2, 2, 2, 2, 2, 2, 2, 2, 2, 2, 2, 2, 2, 2, 2, 2, 2, 2, 2, 2, 2, 2, 2, 2, 2, 2, 2, 2, 2, 2, 2, 2, 2, 2, 2, 2, 2, 2, 2, 2, 2, 2, 2, 2, 2, 2, 2, 2, 2, 2, 2, 2, 2, 2, 2, 2, 2, 2, 2, 2, 2, 2, 2, 2, 2, 2, 2, 2, 2, 2, 2, 2, 2, 2, 2, 2, 2, 2, 2, 2, 2, 2, 2, 2, 2, 2, 2, 2, 2, 2, 4, 4, 4, 6, 4, 4, 6, 4, 4, 6, 4, 4, 4, 6, 4, 4, 6, 4, 4, 6, 4, 4, 4, 6, 4, 4, 6, 4, 4, 4, 6, 4, 4, 4, 6, 4, 4, 6, 4, 4, 4, 6, 4, 4, 4, 4, 6, 4, 4, 4, 6, 4, 4, 4, 6, 4, 4, 4, 4, 6, 4, 4, 4, 4, 4, 6, 4, 4, 4, 4, 4, 6, 4, 4, 4, 4, 4, 6, 4, 4, 4, 4, 4, 4, 4, 4, 6, 4, 4, 4, 4, 4, 4, 4, 4, 4, 4, 4, 4, 4, 4, 4, 4, 6, 4, 4, 4, 4, 4, 4, 2, 4, 2, 2, 2, 2, 2, 2, 2, 2, 2, 2, 2, 2, 2, 2, 2, 2, 2, 2, 2, 2, 0, 2, 2, 2, 2, 2, 2, 2, 2, 2, 2, 2, 2, 2, 2, 2, 2, 2, 2, 2, 2, 2, 2, 2, 2, 2, 2, 2, 2, 2, 2, 2, 2, 2, 2, 2, 2, 2, 2, 2, 2, 2, 2, 2, 2, 2, 2, 2, 0, 2, 0, 0, 0, 0, 0, 0, 0, 0, 0, 2, 0, 0, 0, 0, 0, 0, 0, 0, 0, 0, 2, 0, 0, 0, 0, 0, 0, 0, 0, 0, 2, 0, 0, 0, 0, 0, 0, 2, 0, 0, 0, 0, 0, 2, 0, 0, 0, 0, 0, 2, 0, 0, 0, 0, 2, 0, 0, 0, 2, 0, 0, 0, 0, 2, 0, 0, 0, 2, 0, 0, 2, 0, 0, 0, 2, 0, 0, 2, 0, 0, 0, 2, 0, 0, 2, 0, 0, 2, 0, 0, 2, 0, 0, 2, 0, 0, 2, 0, 0, 2, 0, 2, 0, 0, 2, 0, 0, 2, 0, 2, 0, 0, 2, 0, 2, 0, 2, 0, 0, 2, 0, 2, 0, 2, 0, 0, 2, 0, 2, 0, 2, 0, 2, 0, 2, 0, 2, 0, 2, 0, 2, 0, 2, 0, 2, 0, 2, 0, 2, 0, 2, 0, 2, 0, 2, 0, 2, 0, 2, 2, 0, 2, 0, 2, 0, 2, 2, 0, 2, 0, 2, 0, 2, 2, 0, 2, 0, 2, 2, 0, 2, 0, 2, 2, 0, 2, 2, 0, 2, 0, 2, 2, 0, 2, 2, 0, 2, 2, 0, 2, 2, 0, 2, 2, 0, 2]\n"
     ]
    }
   ],
   "source": [
    "cd = chainCode(images[0])\n",
    "print(cd)"
   ]
  },
  {
   "cell_type": "markdown",
   "metadata": {},
   "source": [
    "### Item 2"
   ]
  },
  {
   "cell_type": "code",
   "execution_count": 13,
   "metadata": {},
   "outputs": [
    {
     "data": {
      "image/png": "[encoded data removed]",
      "text/plain": [
       "<Figure size 432x288 with 4 Axes>"
      ]
     },
     "metadata": {
      "needs_background": "light"
     },
     "output_type": "display_data"
    }
   ],
   "source": [
    "imagesChainCodes = [chainCode(image) for image in images]\n",
    "for i,cd in enumerate(imagesChainCodes):\n",
    "    plt.subplot(len(imagesChainCodes),1,i+1)\n",
    "    plt.plot(imagesChainCodes[i])\n",
    "plt.show()"
   ]
  },
  {
   "cell_type": "markdown",
   "metadata": {},
   "source": [
    "### Item 3"
   ]
  },
  {
   "cell_type": "code",
   "execution_count": 14,
   "metadata": {},
   "outputs": [],
   "source": [
    "def drawChainCode(chainCode, retImgSize=(800,640), startPixel=None):\n",
    "    #Creating return image\n",
    "    retImg = np.zeros((retImgSize[0], retImgSize[1]))\n",
    "    \n",
    "    #if no start point is defined then we set a arbitray start point\n",
    "    if startPixel==None:\n",
    "        #count how many times the chainCode go down, in other words, how many 6 we have\n",
    "        count = len([x for x in chainCode if x==6])+20\n",
    "        if count>retImgSize[0]:\n",
    "            print(\"The figure is larger than the image, please use 'retImgSize' parameter to resize the return image.\")\n",
    "            return\n",
    "        point = (int(retImgSize[0]-count), int(retImgSize[1]/2))\n",
    "        \n",
    "    else:\n",
    "        point = startPixel\n",
    "    \n",
    "    for value in chainCode:\n",
    "        if value==0:            \n",
    "            point = (point[0],point[1]+1)\n",
    "            retImg[point] = 255\n",
    "        if value==1:            \n",
    "            point = (point[0]-1,point[1]+1)\n",
    "            retImg[point] = 255\n",
    "        if value==2:            \n",
    "            point = (point[0]-1,point[1])\n",
    "            retImg[point] = 255\n",
    "        if value==3:            \n",
    "            point = (point[0]-1,point[1]-1)\n",
    "            retImg[point] = 255\n",
    "        if value==4:            \n",
    "            point = (point[0],point[1]-1)\n",
    "            retImg[point] = 255\n",
    "        if value==5:            \n",
    "            point = (point[0]+1,point[1]-1)\n",
    "            retImg[point] = 255\n",
    "        if value==6:            \n",
    "            point = (point[0]+1,point[1])\n",
    "            retImg[point] = 255\n",
    "        if value==7:            \n",
    "            point = (point[0]+1,point[1]+1)\n",
    "            retImg[point] = 255\n",
    "    return retImg"
   ]
  },
  {
   "cell_type": "code",
   "execution_count": 15,
   "metadata": {},
   "outputs": [],
   "source": [
    "drawedImg = drawChainCode(cd)\n",
    "cv.imshow('drawedImg', drawedImg)\n",
    "cv.waitKey(0)\n",
    "cv.destroyAllWindows()"
   ]
  },
  {
   "cell_type": "code",
   "execution_count": 16,
   "metadata": {},
   "outputs": [],
   "source": [
    "for cd in imagesChainCodes:\n",
    "    a = drawChainCode(cd)\n",
    "    cv.imshow('drawedImg',a)\n",
    "    cv.waitKey(0)\n",
    "cv.destroyAllWindows()"
   ]
  },
  {
   "cell_type": "markdown",
   "metadata": {},
   "source": [
    "### Item 4"
   ]
  },
  {
   "cell_type": "code",
   "execution_count": 17,
   "metadata": {},
   "outputs": [],
   "source": [
    "def blackBoxNormalization(arrayOfCds):\n",
    "    retArray = []\n",
    "    \n",
    "    #choose the minimum value between the arrays lengths\n",
    "    normalizedArrayLength = np.min([len(array) for array in arrayOfCds])\n",
    "    \n",
    "    \n",
    "    for array in arrayOfCds:\n",
    "        if len(array)!=normalizedArrayLength:\n",
    "            arrayLen = len(array) #get the current array length\n",
    "            step = arrayLen/normalizedArrayLength #find the step\n",
    "\n",
    "            normalizedArray = []\n",
    "            normalizedArray.append(array[0]) #append the firts value\n",
    "            idx,aux = 0,0.0\n",
    "            \n",
    "            for x in range(normalizedArrayLength-1):\n",
    "                aux +=step\n",
    "                a = int(aux)\n",
    "                idx+=a\n",
    "                aux -= a\n",
    "                if idx > arrayLen-1:\n",
    "                    break\n",
    "                else:\n",
    "                    normalizedArray.append(array[idx])\n",
    "            \n",
    "            retArray.append(normalizedArray)\n",
    "        else:\n",
    "            retArray.append(array)\n",
    "    return retArray"
   ]
  },
  {
   "cell_type": "code",
   "execution_count": 28,
   "metadata": {
    "scrolled": false
   },
   "outputs": [
    {
     "name": "stdout",
     "output_type": "stream",
     "text": [
      "1350\n",
      "1682\n",
      "1319\n",
      "2001\n",
      "=====\n",
      "1319\n",
      "1319\n",
      "1319\n",
      "1319\n"
     ]
    }
   ],
   "source": [
    "[print(len(x)) for x in imagesChainCodes]\n",
    "normalizedArrayOfCds = blackBoxNormalization(imagesChainCodes)\n",
    "print('=====')\n",
    "[print(len(x)) for x in normalizedArrayOfCds]\n",
    "for i, image in enumerate(normalizedArrayOfCds):\n",
    "    cv.imshow('input image',drawChainCode(imagesChainCodes[i]))\n",
    "    cv.imshow('normalized Image', drawChainCode(image, retImgSize=(600,600)))\n",
    "    cv.waitKey(0)\n",
    "cv.destroyAllWindows()"
   ]
  },
  {
   "cell_type": "code",
   "execution_count": 20,
   "metadata": {},
   "outputs": [
    {
     "data": {
      "image/png": "[encoded data removed]",
      "text/plain": [
       "<Figure size 432x288 with 4 Axes>"
      ]
     },
     "metadata": {
      "needs_background": "light"
     },
     "output_type": "display_data"
    }
   ],
   "source": [
    "for i,cd in enumerate(normalizedArrayOfCds):\n",
    "    plt.subplot(len(normalizedArrayOfCds),1,i+1)\n",
    "    plt.plot(imagesChainCodes[i])\n",
    "plt.show()"
   ]
  },
  {
   "cell_type": "markdown",
   "metadata": {},
   "source": [
    "### Item 5"
   ]
  },
  {
   "cell_type": "code",
   "execution_count": 29,
   "metadata": {},
   "outputs": [
    {
     "name": "stdout",
     "output_type": "stream",
     "text": [
      "1319\n"
     ]
    }
   ],
   "source": [
    "df = pd.DataFrame(normalizedArrayOfCds)\n",
    "newChainCode = list(df.mode().iloc[0])\n",
    "cv.imshow('image', drawChainCode(newChainCode, retImgSize=(500,500)))\n",
    "cv.waitKey(0)\n",
    "cv.destroyAllWindows()\n"
   ]
  },
  {
   "cell_type": "code",
   "execution_count": 25,
   "metadata": {},
   "outputs": [],
   "source": [
    "from functools import reduce\n",
    "from random import randint\n",
    "\n",
    "def newNumber(normalizedArrayOfCds):\n",
    "    ret = []\n",
    "    df = pd.DataFrame(normalizedArrayOfCds)\n",
    "    mode = list(df.mode().iloc[0])\n",
    "    for x in range(len(df.columns)):\n",
    "        a = list(df.iloc[:,x])\n",
    "        i = reduce(lambda x, y: x if x>y and x!=mode[x] else y, a)\n",
    "        if randint(0,1)==1:\n",
    "            ret.append(mode[x])\n",
    "        else:\n",
    "            ret.append(i)\n",
    "    return ret\n",
    "        \n",
    "newCD = newNumber(normalizedArrayOfCds)\n",
    "cv.imshow('newCD', drawChainCode(newCD, retImgSize=(600,600)))\n",
    "cv.waitKey(0)\n",
    "cv.destroyAllWindows()"
   ]
  },
  {
   "cell_type": "markdown",
   "metadata": {},
   "source": [
    "# Question 2"
   ]
  },
  {
   "cell_type": "code",
   "execution_count": null,
   "metadata": {},
   "outputs": [],
   "source": [
    "def createLine(imgDataset):\n",
    "    props = [\"contrast\", \"dissimilarity\", \"homogeneity\", \"energy\", \"correlation\", \"ASM\"]\n",
    "    ret = [] #return list\n",
    "    \n",
    "    #GLCM Values\n",
    "    for image in images:\n",
    "        #for each image we will calculate \n",
    "        glcmIm = greycomatrix(image, [1], [0, np.pi/2], levels=256)\n",
    "        for prop in props:\n",
    "            p = greycoprops(glcmIm,prop)\n",
    "            [ret.append(x) for x in p[0]]\n",
    "\n",
    "    #Hu Moments\n",
    "    for image in images:\n",
    "        huMoments = cv.HuMoments(cv.moments(image))\n",
    "        huMoments =  np.transpose(huMoments)\n",
    "        [ret.append(x) for x in huMoments[0]]\n",
    "    "
   ]
  },
  {
   "cell_type": "code",
   "execution_count": 136,
   "metadata": {
    "scrolled": true
   },
   "outputs": [
    {
     "name": "stdout",
     "output_type": "stream",
     "text": [
      "[345.190045045045, 165.05006499389452]\n"
     ]
    }
   ],
   "source": [
    "#GLCM Values\n",
    "props = [\"contrast\", \"dissimilarity\", \"homogeneity\", \"energy\", \"correlation\", \"ASM\"]\n",
    "ret = []\n",
    "\n",
    "\n",
    "for image in images:\n",
    "    glcmIm = greycomatrix(image, [1], [0, np.pi/2], levels=256)\n",
    "    for prop in props:\n",
    "        p = greycoprops(glcmIm,prop)\n",
    "        [ret.append(x) for x in p[0]]\n",
    "        break\n",
    "    break\n",
    "print(ret)"
   ]
  },
  {
   "cell_type": "code",
   "execution_count": 116,
   "metadata": {},
   "outputs": [
    {
     "name": "stdout",
     "output_type": "stream",
     "text": [
      "[345.190045045045, 165.05006499389452, 0.0007117534213988551, 2.9120335681766883e-08, 3.1579036203380004e-14, 9.38932135118668e-15, 7.692438124590231e-29, 8.336791358290217e-19, 1.4220545920932893e-28]\n"
     ]
    }
   ],
   "source": [
    "#Hu Moments\n",
    "\n",
    "for image in images:\n",
    "    huMoments = cv.HuMoments(cv.moments(image))\n",
    "    huMoments =  np.transpose(huMoments)\n",
    "    [ret.append(x) for x in huMoments[0]]\n",
    "    break\n",
    "print(ret)\n",
    "        \n",
    "\n"
   ]
  },
  {
   "cell_type": "code",
   "execution_count": 135,
   "metadata": {},
   "outputs": [
    {
     "name": "stdout",
     "output_type": "stream",
     "text": [
      "[45.0, 0.0, 232.0, 148.0, 593.0, 6270.0, 83.0, 235.0, 0.0, 170474.0, 1.0, 26.6, 52.2, 77.80000000000001, 103.4, 129.0, 154.60000000000002, 180.20000000000002, 205.8, 231.4, 257.0]\n"
     ]
    },
    {
     "data": {
      "image/png": "[encoded data removed]",
      "text/plain": [
       "<Figure size 432x288 with 1 Axes>"
      ]
     },
     "metadata": {
      "needs_background": "light"
     },
     "output_type": "display_data"
    }
   ],
   "source": [
    "for image in images:\n",
    "    aux = []\n",
    "    a = lbp(image, 256, 1, 'uniform')\n",
    "    a = plt.hist(a.ravel())\n",
    "    [ret.append(x) for x in a[0]]\n",
    "    [ret.append(x) for x in a[1]]\n",
    "    break\n",
    "plt.show()"
   ]
  },
  {
   "cell_type": "code",
   "execution_count": 134,
   "metadata": {},
   "outputs": [
    {
     "name": "stdout",
     "output_type": "stream",
     "text": [
      "[1.  1.4 1.8 2.2 2.6 3.  3.4 3.8 4.2 4.6 5. ]\n"
     ]
    },
    {
     "data": {
      "image/png": "[encoded data removed]",
      "text/plain": [
       "<Figure size 432x288 with 1 Axes>"
      ]
     },
     "metadata": {
      "needs_background": "light"
     },
     "output_type": "display_data"
    }
   ],
   "source": [
    "a = [1,1,1,1,2,3,4,5]\n",
    "x = plt.hist(a)\n",
    "print(x[1])\n",
    "plt.show()"
   ]
  }
 ],
 "metadata": {
  "kernelspec": {
   "display_name": "2dFeatureExtraction",
   "language": "python",
   "name": "2dfeatureextraction"
  },
  "language_info": {
   "codemirror_mode": {
    "name": "ipython",
    "version": 3
   },
   "file_extension": ".py",
   "mimetype": "text/x-python",
   "name": "python",
   "nbconvert_exporter": "python",
   "pygments_lexer": "ipython3",
   "version": "3.5.2"
  }
 },
 "nbformat": 4,
 "nbformat_minor": 4
}
